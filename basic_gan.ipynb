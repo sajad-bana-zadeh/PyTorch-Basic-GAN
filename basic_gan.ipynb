{
 "cells": [
  {
   "cell_type": "markdown",
   "id": "72241b46-34c8-4d2d-a682-6f0b0372a7da",
   "metadata": {},
   "source": [
    "## 1. Import Libraries"
   ]
  },
  {
   "cell_type": "code",
   "execution_count": 1,
   "id": "1c65043f-82f2-4115-abec-6d4bf48e6b40",
   "metadata": {},
   "outputs": [],
   "source": [
    "import torch\n",
    "import torch.nn as nn\n",
    "import torch.optim as optim\n",
    "import torchvision\n",
    "from torchvision import datasets, transforms\n",
    "from torch.utils.data import DataLoader\n",
    "import matplotlib.pyplot as plt"
   ]
  },
  {
   "cell_type": "markdown",
   "id": "c5370775-9674-493c-9369-85a2abd835e4",
   "metadata": {},
   "source": [
    "___"
   ]
  },
  {
   "cell_type": "markdown",
   "id": "e7e7b516-dab4-4d00-90a5-9df7d9dcfd01",
   "metadata": {},
   "source": [
    "## 2. Prepare the Dataset"
   ]
  },
  {
   "cell_type": "markdown",
   "id": "e58ee324-45d5-466e-a8b7-7bdb0e4f0098",
   "metadata": {},
   "source": [
    "- Use MNIST as a typical example, normalize it to [-1, 1] for better GAN performance"
   ]
  },
  {
   "cell_type": "markdown",
   "id": "0b36a4d3-08a3-448f-b4bd-926a557b4640",
   "metadata": {},
   "source": [
    "This command creates a **data transformation pipeline** typically used in image preprocessing for deep learning tasks with libraries like PyTorch.\n",
    "\n",
    "Here’s what the command does, step-by-step:\n",
    "\n",
    "1. **`transforms.Compose([...])`**  \n",
    "   This wraps multiple transformations into one. It applies them sequentially to the input data.\n",
    "\n",
    "2. **`transforms.ToTensor()`**  \n",
    "   Converts a PIL image or NumPy ndarray into a PyTorch tensor. It also scales pixel values from the range  to [0.0, 1.0].\n",
    "\n",
    "3. **`transforms.Normalize(mean=(0.5,), std=(0.5,))`**  \n",
    "   Normalizes the tensor by subtracting the mean and dividing by the standard deviation for each channel. Here, the single value `(0.5,)` corresponds to one channel (like grayscale).\n",
    "\n",
    "   Since the pixel values are between 0 and 1 after `ToTensor()`, normalization with mean=0.5 and std=0.5 converts them roughly to the range [-1, 1] using this formula:\n",
    "\n",
    "   $$\n",
    "   \\text{normalized\\_pixel} = \\frac{\\text{pixel} - 0.5}{0.5}\n",
    "   $$\n",
    "\n",
    "### Purpose of this command:\n",
    "\n",
    "- **Convert images to tensors** (making them compatible with PyTorch models).\n",
    "- **Normalize pixel intensity values** so the model trains more effectively (helps with convergence and stabilizes training by standardizing input).\n",
    "\n",
    "This transformation is common in training neural networks on datasets like MNIST or grayscale images since it processes the image into a normalized tensor input suitable for the model."
   ]
  },
  {
   "cell_type": "code",
   "execution_count": 2,
   "id": "5ce9e330-4d34-4f5f-a08b-c772756154f8",
   "metadata": {},
   "outputs": [],
   "source": [
    "transform = transforms.Compose([\n",
    "    transforms.ToTensor(),\n",
    "    transforms.Normalize(mean=(0.5,), std=(0.5,))\n",
    "])"
   ]
  },
  {
   "cell_type": "markdown",
   "id": "72dec174-af00-49c9-a7e4-59bfd3b388c2",
   "metadata": {},
   "source": [
    "This command creates a **training dataset object** for the MNIST dataset using PyTorch’s `torchvision.datasets` module.\n",
    "\n",
    "Here’s a breakdown of the command:\n",
    "\n",
    "- **`datasets.MNIST(...)`**  \n",
    "  This loads the MNIST handwritten digit dataset, which contains grayscale images of digits (0–9).\n",
    "\n",
    "- **`root='./data'`**  \n",
    "  Specifies the directory where the MNIST data will be stored or loaded from. If the data is not already present, it will be downloaded to this folder.\n",
    "\n",
    "- **`train=True`**  \n",
    "  Indicates that this dataset object should load the **training split** of MNIST (60,000 images). If set to `False`, it would load the test split (10,000 images).\n",
    "\n",
    "- **`download=True`**  \n",
    "  If the dataset isn’t already present in the specified `root` folder, PyTorch will automatically download it from the internet.\n",
    "\n",
    "- **`transform=transform`**  \n",
    "  Applies the previously defined transformations (such as conversion to tensor and normalization) to every image when it is loaded. This preprocesses the images so they're ready for training.\n",
    "\n",
    "### Purpose of this command:\n",
    "\n",
    "- It **loads** the MNIST training dataset, downloading it if necessary.\n",
    "- It **applies the defined transformations** (like converting images to tensors and normalizing) on the data.\n",
    "- It prepares the dataset in a format suitable for training a PyTorch model.\n",
    "\n",
    "In short, this command **sets up your training data pipeline** for feeding images into a neural network."
   ]
  },
  {
   "cell_type": "code",
   "execution_count": 3,
   "id": "7c37f00c-b8eb-4dd3-89c4-f3e0549ffe22",
   "metadata": {},
   "outputs": [],
   "source": [
    "train_dataset = datasets.MNIST(root='./data', train=True, download=True, transform=transform)"
   ]
  },
  {
   "cell_type": "markdown",
   "id": "f861b99f-1c6b-48e2-9614-d13229ab29b0",
   "metadata": {},
   "source": [
    "This command creates a **DataLoader** object from the previously defined `train_dataset` (MNIST training dataset in this case).\n",
    "\n",
    "Here’s what it does:\n",
    "\n",
    "- **`DataLoader(train_dataset, batch_size=64, shuffle=True)`**  \n",
    "  This wraps the dataset in a convenient iterator for training machine learning models.\n",
    "\n",
    "- **`batch_size=64`**  \n",
    "  Specifies that data will be loaded in batches of 64 samples. Instead of passing one image at a time, the model receives 64 images in each training step, which is efficient and stabilizes training.\n",
    "\n",
    "- **`shuffle=True`**  \n",
    "  Means the dataset will be shuffled at the start of each epoch. Shuffling helps the model see the data in a different order each time, which improves training by reducing overfitting and increasing generalization.\n",
    "\n",
    "### Purpose of this command:\n",
    "\n",
    "- To **batch the dataset** enabling efficient processing and training.\n",
    "- To **shuffle the training data** so the model does not learn the order of data, which promotes better generalization.\n",
    "- To provide an **easily iterable object** that returns batches of transformed images and their labels, ready for training.\n",
    "\n",
    "In summary, this command sets up the training pipeline to feed the model mini-batches of shuffled data for training. It abstracts away loading and batching complexities so the training loop can run smoothly and efficiently."
   ]
  },
  {
   "cell_type": "code",
   "execution_count": 4,
   "id": "4633ff2d-baaa-423f-ac15-203133daf92d",
   "metadata": {},
   "outputs": [],
   "source": [
    "train_loader = DataLoader(train_dataset, batch_size=64, shuffle=True)"
   ]
  },
  {
   "cell_type": "markdown",
   "id": "d01e6fc8-79e5-49a7-819d-dfea2305add4",
   "metadata": {},
   "source": [
    "___"
   ]
  },
  {
   "cell_type": "markdown",
   "id": "b9e90aef-9dcf-4771-a746-3cddb2aeef12",
   "metadata": {},
   "source": [
    "## 3. Define the Generator"
   ]
  },
  {
   "cell_type": "markdown",
   "id": "696ccdc1-37d4-4995-a7df-8723362df7ff",
   "metadata": {},
   "source": [
    "- **Generator:** Turns noisy random input into a 28x28 image."
   ]
  },
  {
   "cell_type": "code",
   "execution_count": 5,
   "id": "9e54d409-c5dc-4216-8b77-fbe446b48c72",
   "metadata": {},
   "outputs": [],
   "source": [
    "class Generator(nn.Module):\n",
    "    def __init__(self, noise_dim):\n",
    "        super().__init__()\n",
    "        self.model = nn.Sequential(\n",
    "            nn.Linear(noise_dim, 128),\n",
    "            nn.ReLU(True),\n",
    "            nn.Linear(128, 784),\n",
    "            nn.Tanh()  # Output between -1 and 1\n",
    "        )\n",
    "    def forward(self, x):\n",
    "        return self.model(x).view(-1, 1, 28, 28)"
   ]
  },
  {
   "cell_type": "markdown",
   "id": "830491e8-95b4-402a-9fec-3b650252390d",
   "metadata": {},
   "source": [
    "___"
   ]
  },
  {
   "cell_type": "code",
   "execution_count": null,
   "id": "f2f57c06-c532-4622-b2a5-a72f4e2161a5",
   "metadata": {},
   "outputs": [],
   "source": []
  }
 ],
 "metadata": {
  "kernelspec": {
   "display_name": "Python 3 (ipykernel)",
   "language": "python",
   "name": "python3"
  },
  "language_info": {
   "codemirror_mode": {
    "name": "ipython",
    "version": 3
   },
   "file_extension": ".py",
   "mimetype": "text/x-python",
   "name": "python",
   "nbconvert_exporter": "python",
   "pygments_lexer": "ipython3",
   "version": "3.11.2"
  }
 },
 "nbformat": 4,
 "nbformat_minor": 5
}
